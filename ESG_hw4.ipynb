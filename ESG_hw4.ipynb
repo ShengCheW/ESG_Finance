{
  "nbformat": 4,
  "nbformat_minor": 0,
  "metadata": {
    "colab": {
      "provenance": []
    },
    "kernelspec": {
      "name": "python3",
      "display_name": "Python 3"
    },
    "language_info": {
      "name": "python"
    }
  },
  "cells": [
    {
      "cell_type": "code",
      "execution_count": 1,
      "metadata": {
        "colab": {
          "base_uri": "https://localhost:8080/"
        },
        "id": "LJmFxlmmvgTo",
        "outputId": "a311a5d5-aac9-4cba-f089-a22d97a2a75a"
      },
      "outputs": [
        {
          "output_type": "stream",
          "name": "stdout",
          "text": [
            "Collecting PyPDF2\n",
            "  Downloading pypdf2-3.0.1-py3-none-any.whl (232 kB)\n",
            "\u001b[?25l     \u001b[90m━━━━━━━━━━━━━━━━━━━━━━━━━━━━━━━━━━━━━━━━\u001b[0m \u001b[32m0.0/232.6 kB\u001b[0m \u001b[31m?\u001b[0m eta \u001b[36m-:--:--\u001b[0m\r\u001b[2K     \u001b[91m━━━━━━━━━━━━━━━━━━━━\u001b[0m\u001b[91m╸\u001b[0m\u001b[90m━━━━━━━━━━━━━━━━━━\u001b[0m \u001b[32m122.9/232.6 kB\u001b[0m \u001b[31m3.6 MB/s\u001b[0m eta \u001b[36m0:00:01\u001b[0m\r\u001b[2K     \u001b[90m━━━━━━━━━━━━━━━━━━━━━━━━━━━━━━━━━━━━━━━\u001b[0m \u001b[32m232.6/232.6 kB\u001b[0m \u001b[31m4.4 MB/s\u001b[0m eta \u001b[36m0:00:00\u001b[0m\n",
            "\u001b[?25hInstalling collected packages: PyPDF2\n",
            "Successfully installed PyPDF2-3.0.1\n",
            "Requirement already satisfied: gensim in /usr/local/lib/python3.10/dist-packages (4.3.2)\n",
            "Requirement already satisfied: numpy>=1.18.5 in /usr/local/lib/python3.10/dist-packages (from gensim) (1.23.5)\n",
            "Requirement already satisfied: scipy>=1.7.0 in /usr/local/lib/python3.10/dist-packages (from gensim) (1.11.3)\n",
            "Requirement already satisfied: smart-open>=1.8.1 in /usr/local/lib/python3.10/dist-packages (from gensim) (6.4.0)\n"
          ]
        }
      ],
      "source": [
        "!pip install PyPDF2\n",
        "!pip install gensim"
      ]
    },
    {
      "cell_type": "code",
      "source": [
        "import requests, io, PyPDF2\n",
        "import pandas as pd\n",
        "import spacy\n",
        "import string, re\n",
        "import gensim\n",
        "\n",
        "from sklearn.feature_extraction import text\n",
        "from sklearn.decomposition import LatentDirichletAllocation\n",
        "from sklearn.cluster import KMeans\n",
        "from sklearn import preprocessing\n",
        "import wordcloud\n",
        "\n",
        "import numpy as np\n",
        "import matplotlib.pyplot as plt\n",
        "import seaborn as sns"
      ],
      "metadata": {
        "id": "u2dMc1jUvn32"
      },
      "execution_count": 7,
      "outputs": []
    },
    {
      "cell_type": "code",
      "source": [
        "\n",
        "urlMap = {\n",
        "    \"barclays\": \"https://home.barclays/content/dam/home-barclays/documents/citizenship/ESG/Barclays-PLC-ESG-Report-2019.pdf\",\n",
        "    \"jp morgan chase\": \"https://impact.jpmorganchase.com/content/dam/jpmc/jpmorgan-chase-and-co/documents/jpmc-cr-esg-report-2019.pdf\",\n",
        "    \"morgan stanley\": \"https://www.morganstanley.com/pub/content/dam/msdotcom/sustainability/Morgan-Stanley_2019-Sustainability-Report_Final.pdf\",\n",
        "    \"goldman sachs\": \"https://www.goldmansachs.com/what-we-do/sustainable-finance/documents/reports/2019-sustainability-report.pdf\",\n",
        "    \"hsbc\": \"https://www.hsbc.com/-/files/hsbc/our-approach/measuring-our-impact/pdfs/190408-esg-update-april-2019-eng.pdf\",\n",
        "    \"citi\": \"https://www.citigroup.com/citi/about/esg/download/2019/Global-ESG-Report-2019.pdf\",\n",
        "    \"td bank\": \"https://www.td.com/document/PDF/corporateresponsibility/2018-ESG-Report.pdf\",\n",
        "    \"bank of america\": \"https://about.bankofamerica.com/assets/pdf/Bank-of-America-2017-ESG-Performance-Data-Summary.pdf\",\n",
        "    \"rbc\": \"https://www.rbc.com/community-social-impact/_assets-custom/pdf/2019-ESG-Report.PDF\",\n",
        "    \"macquarie\": \"https://www.macquarie.com/assets/macq/investor/reports/2020/sections/Macquarie-Group-FY20-ESG.pdf\",\n",
        "    \"lloyds\": \"https://www.lloydsbankinggroup.com/globalassets/documents/investors/2020/2020feb20_lbg_esg_approach.pdf\",\n",
        "    \"santander\": \"https://www.santander.co.uk/assets/s3fs-public/documents/2019_santander_esg_supplement.pdf\",\n",
        "    \"bluebay\": \"https://www.bluebay.com/globalassets/documents/bluebay-annual-esg-investment-report-2018.pdf\",\n",
        "    \"lasalle\": \"https://www.lasalle.com/documents/ESG_Policy_2019.pdf\",\n",
        "    \"riverstone\": \"https://www.riverstonellc.com/media/1196/riverstone_esg_report.pdf\",\n",
        "    \"aberdeen standard\": \"https://www.standardlifeinvestments.com/RI_Report.pdf\",\n",
        "    \"apollo\": \"https://www.apollo.com/~/media/Files/A/Apollo-V2/documents/apollo-2018-esg-summary-annual-report.pdf\",\n",
        "    \"bmogan\": \"https://www.bmogam.com/gb-en/intermediary/wp-content/uploads/2019/02/cm16148-esg-profile-and-impact-report-2018_v33_digital.pdf\",\n",
        "    \"vanguard\": \"https://personal.vanguard.com/pdf/ISGESG.pdf\",\n",
        "    \"ruffer\": \"https://www.ruffer.co.uk/-/media/Ruffer-Website/Files/Downloads/ESG/2018_Ruffer_report_on_ESG.pdf\",\n",
        "    \"northern trust\": \"https://cdn.northerntrust.com/pws/nt/documents/fact-sheets/mutual-funds/institutional/annual-stewardship-report.pdf\",\n",
        "    \"hermes investments\": \"https://www.hermes-investment.com/ukw/wp-content/uploads/sites/80/2017/09/Hermes-Global-Equities-ESG-Dashboard-Overview_NB.pdf\",\n",
        "    \"abris capital\": \"http://www.abris-capital.com/sites/default/files/Abris%20ESG%20Report%202018.pdf\",\n",
        "    \"schroders\": \"https://www.schroders.com/en/sysglobalassets/digital/insights/2019/pdfs/sustainability/sustainable-investment-report/sustainable-investment-report-q2-2019.pdf\",\n",
        "    \"lazard\": \"https://www.lazardassetmanagement.com/docs/-m0-/54142/LazardESGIntegrationReport_en.pdf\",\n",
        "    \"credit suisse\": \"https://www.credit-suisse.com/pwp/am/downloads/marketing/br_esg_capabilities_uk_csam_en.pdf\",\n",
        "    \"coller capital\": \"https://www.collercapital.com/sites/default/files/Coller%20Capital%20ESG%20Report%202019-Digital%20copy.pdf\",\n",
        "    \"cinven\": \"https://www.cinven.com/media/2086/81-cinven-esg-policy.pdf\",\n",
        "    \"warburg pincus\": \"https://www.warburgpincus.com/content/uploads/2019/07/Warburg-Pincus-ESG-Brochure.pdf\",\n",
        "    \"exponent\": \"https://www.exponentpe.com/sites/default/files/2020-01/Exponent%20ESG%20Report%202018.pdf\",\n",
        "    \"silverfleet capital\": \"https://www.silverfleetcapital.com/media-centre/silverfleet-esg-report-2020.pdf\",\n",
        "    \"kkr\": \"https://www.kkr.com/_files/pdf/KKR_2018_ESG_Impact_and_Citizenship_Report.pdf\",\n",
        "    \"cerberus\": \"https://www.cerberus.com/media/2019/07/Cerberus-2018-ESG-Report_FINAL_WEB.pdf\",\n",
        "    \"standard chartered\": \"https://av.sc.com/corp-en/others/2018-sustainability-summary2.pdf\"\n",
        "}"
      ],
      "metadata": {
        "id": "9QWFFQmGvpJm"
      },
      "execution_count": 3,
      "outputs": []
    },
    {
      "cell_type": "code",
      "source": [
        "def extractContent(url):\n",
        "    try:\n",
        "        response = requests.get(url)\n",
        "        pdf = PyPDF2.PdfReader(io.BytesIO(response.content))  # Use PdfReader instead of PdfFileReader\n",
        "        text = [pdf.pages[ii].extract_text() for ii in range(len(pdf.pages))]  # Adjust method to extract text\n",
        "        return \"\\n\".join(text)\n",
        "    except Exception as e:\n",
        "        print(f\"Error processing URL {url}: {str(e)}\")\n",
        "        return \"\"\n"
      ],
      "metadata": {
        "id": "FaYzI3uWvpLr"
      },
      "execution_count": 4,
      "outputs": []
    },
    {
      "cell_type": "code",
      "source": [
        "\n",
        "contentMap = {x: extractContent(urlMap[x]) for x in urlMap}\n",
        "contentMap = {x: contentMap[x] for x in contentMap if len(contentMap[x]) > 0}\n",
        "{x: len(contentMap[x]) for x in contentMap}"
      ],
      "metadata": {
        "colab": {
          "base_uri": "https://localhost:8080/"
        },
        "id": "qJlrZFrRvpNx",
        "outputId": "54fda892-b048-469f-d5d1-730fa19d3c22"
      },
      "execution_count": 5,
      "outputs": [
        {
          "output_type": "stream",
          "name": "stdout",
          "text": [
            "Error processing URL https://www.td.com/document/PDF/corporateresponsibility/2018-ESG-Report.pdf: PyCryptodome is required for AES algorithm\n",
            "Error processing URL https://about.bankofamerica.com/assets/pdf/Bank-of-America-2017-ESG-Performance-Data-Summary.pdf: EOF marker not found\n",
            "Error processing URL https://www.lloydsbankinggroup.com/globalassets/documents/investors/2020/2020feb20_lbg_esg_approach.pdf: EOF marker not found\n",
            "Error processing URL https://www.bluebay.com/globalassets/documents/bluebay-annual-esg-investment-report-2018.pdf: EOF marker not found\n",
            "Error processing URL https://www.lasalle.com/documents/ESG_Policy_2019.pdf: EOF marker not found\n",
            "Error processing URL https://www.standardlifeinvestments.com/RI_Report.pdf: EOF marker not found\n",
            "Error processing URL https://www.apollo.com/~/media/Files/A/Apollo-V2/documents/apollo-2018-esg-summary-annual-report.pdf: EOF marker not found\n",
            "Error processing URL https://www.bmogam.com/gb-en/intermediary/wp-content/uploads/2019/02/cm16148-esg-profile-and-impact-report-2018_v33_digital.pdf: EOF marker not found\n",
            "Error processing URL https://personal.vanguard.com/pdf/ISGESG.pdf: EOF marker not found\n",
            "Error processing URL https://cdn.northerntrust.com/pws/nt/documents/fact-sheets/mutual-funds/institutional/annual-stewardship-report.pdf: PyCryptodome is required for AES algorithm\n",
            "Error processing URL https://www.hermes-investment.com/ukw/wp-content/uploads/sites/80/2017/09/Hermes-Global-Equities-ESG-Dashboard-Overview_NB.pdf: EOF marker not found\n",
            "Error processing URL https://www.credit-suisse.com/pwp/am/downloads/marketing/br_esg_capabilities_uk_csam_en.pdf: EOF marker not found\n",
            "Error processing URL https://www.collercapital.com/sites/default/files/Coller%20Capital%20ESG%20Report%202019-Digital%20copy.pdf: EOF marker not found\n",
            "Error processing URL https://www.warburgpincus.com/content/uploads/2019/07/Warburg-Pincus-ESG-Brochure.pdf: EOF marker not found\n",
            "Error processing URL https://www.silverfleetcapital.com/media-centre/silverfleet-esg-report-2020.pdf: EOF marker not found\n",
            "Error processing URL https://www.cerberus.com/media/2019/07/Cerberus-2018-ESG-Report_FINAL_WEB.pdf: EOF marker not found\n"
          ]
        },
        {
          "output_type": "execute_result",
          "data": {
            "text/plain": [
              "{'barclays': 403226,\n",
              " 'jp morgan chase': 123318,\n",
              " 'morgan stanley': 132438,\n",
              " 'goldman sachs': 176124,\n",
              " 'hsbc': 199845,\n",
              " 'citi': 453885,\n",
              " 'rbc': 146872,\n",
              " 'macquarie': 78517,\n",
              " 'santander': 67115,\n",
              " 'riverstone': 42127,\n",
              " 'ruffer': 124995,\n",
              " 'abris capital': 2686,\n",
              " 'schroders': 64061,\n",
              " 'lazard': 23518,\n",
              " 'cinven': 17749,\n",
              " 'exponent': 32366,\n",
              " 'kkr': 108422,\n",
              " 'standard chartered': 68409}"
            ]
          },
          "metadata": {},
          "execution_count": 5
        }
      ]
    },
    {
      "cell_type": "code",
      "source": [
        "# List of URLs with \"EOF marker not found\" error\n",
        "urls_with_eof_errors = [\n",
        "    \"https://www.td.com/document/PDF/corporateresponsibility/2018-ESG-Report.pdf\",\n",
        "    \"https://about.bankofamerica.com/assets/pdf/Bank-of-America-2017-ESG-Performance-Data-Summary.pdf\",\n",
        "    \"https://www.lloydsbankinggroup.com/globalassets/documents/investors/2020/2020feb20_lbg_esg_approach.pdf\",\n",
        "    \"https://www.bluebay.com/globalassets/documents/bluebay-annual-esg-investment-report-2018.pdf\",\n",
        "    \"https://www.lasalle.com/documents/ESG_Policy_2019.pdf\",\n",
        "    \"https://www.standardlifeinvestments.com/RI_Report.pdf\",\n",
        "    \"https://www.apollo.com/~/media/Files/A/Apollo-V2/documents/apollo-2018-esg-summary-annual-report.pdf\",\n",
        "    \"https://www.bmogam.com/gb-en/intermediary/wp-content/uploads/2019/02/cm16148-esg-profile-and-impact-report-2018_v33_digital.pdf\",\n",
        "    \"https://personal.vanguard.com/pdf/ISGESG.pdf\",\n",
        "    \"https://www.hermes-investment.com/ukw/wp-content/uploads/sites/80/2017/09/Hermes-Global-Equities-ESG-Dashboard-Overview_NB.pdf\",\n",
        "    \"https://www.credit-suisse.com/pwp/am/downloads/marketing/br_esg_capabilities_uk_csam_en.pdf\",\n",
        "    \"https://www.collercapital.com/sites/default/files/Coller%20Capital%20ESG%20Report%202019-Digital%20copy.pdf\",\n",
        "    \"https://www.warburgpincus.com/content/uploads/2019/07/Warburg-Pincus-ESG-Brochure.pdf\",\n",
        "    \"https://www.silverfleetcapital.com/media-centre/silverfleet-esg-report-2020.pdf\",\n",
        "    \"https://www.cerberus.com/media/2019/07/Cerberus-2018-ESG-Report_FINAL_WEB.pdf\"\n",
        "]\n",
        "\n",
        "# Remove the problematic URLs from the urlMap\n",
        "for url in urls_with_eof_errors:\n",
        "    urlMap = {k: v for k, v in urlMap.items() if v != url}\n",
        "\n",
        "# Return the updated number of URLs in urlMap\n",
        "len(urlMap)\n"
      ],
      "metadata": {
        "colab": {
          "base_uri": "https://localhost:8080/"
        },
        "id": "BAJ-LRKKvpPV",
        "outputId": "a1f2abc1-832b-4068-e860-75a36dafa2e7"
      },
      "execution_count": 6,
      "outputs": [
        {
          "output_type": "execute_result",
          "data": {
            "text/plain": [
              "19"
            ]
          },
          "metadata": {},
          "execution_count": 6
        }
      ]
    },
    {
      "cell_type": "code",
      "source": [
        "\n",
        "spacy.cli.download(\"en_core_web_sm\")\n",
        "nlp = spacy.load(\"en_core_web_sm\", disable=['ner'])"
      ],
      "metadata": {
        "colab": {
          "base_uri": "https://localhost:8080/"
        },
        "id": "6nLnPQ6YwFg9",
        "outputId": "7ce8d482-4416-4639-b5d7-b10a4fc5fb73"
      },
      "execution_count": 8,
      "outputs": [
        {
          "output_type": "stream",
          "name": "stdout",
          "text": [
            "\u001b[38;5;2m✔ Download and installation successful\u001b[0m\n",
            "You can now load the package via spacy.load('en_core_web_sm')\n"
          ]
        }
      ]
    },
    {
      "cell_type": "code",
      "source": [
        "def extractStatements(nlp, text):\n",
        "    printable = set(string.printable)\n",
        "    text = \"\".join(filter(lambda x: x in printable, text))\n",
        "\n",
        "    lines = []\n",
        "    prev = \"\"\n",
        "    for line in text.split(\"\\n\"):\n",
        "        if(line.startswith(\" \") or not prev.endswith(\".\")):\n",
        "            prev = prev + \" \" + line\n",
        "        else:\n",
        "            lines.append(prev)\n",
        "            prev = line\n",
        "    lines.append(prev)\n",
        "\n",
        "    sentences = []\n",
        "    for line in lines:\n",
        "        line = re.sub(r'^\\s?\\d+(.*)$', r'\\1', line)\n",
        "        line = line.strip()\n",
        "        line = re.sub('\\s?-\\s?', '-', line)\n",
        "        line = re.sub(r'\\s?([,:;\\.])', r'\\1', line)\n",
        "        line = re.sub(r'\\d{5,}', r' ', line)\n",
        "        line = re.sub(r'((http|https)\\:\\/\\/)?[a-zA-Z0-9\\.\\/\\?\\:@\\-_=#]+\\.([a-zA-Z]){2,6}([a-zA-Z0-9\\.\\&\\/\\?\\:@\\-_=#])*', r' ', line)\n",
        "        line = re.sub('\\s+', ' ', line)\n",
        "\n",
        "        for part in list(nlp(line).sents):\n",
        "            sentences.append(str(part).strip())\n",
        "\n",
        "    return sentences"
      ],
      "metadata": {
        "id": "9vQ5ljkwwGKx"
      },
      "execution_count": 9,
      "outputs": []
    },
    {
      "cell_type": "code",
      "source": [
        "\n",
        "def lemmatize(nlp, text):\n",
        "    doc = nlp(text)\n",
        "    lemma = []\n",
        "    for token in doc:\n",
        "        if(token.lemma_ not in [\"-PRON-\"]):\n",
        "            lemma.append(token.lemma_)\n",
        "\n",
        "    gen = gensim.utils.simple_preprocess(\" \".join(lemma), deacc=True)\n",
        "    return \" \".join(gen)"
      ],
      "metadata": {
        "id": "UWCz15ApwK7c"
      },
      "execution_count": 10,
      "outputs": []
    },
    {
      "cell_type": "code",
      "source": [
        "\n",
        "esgDf = pd.DataFrame()\n",
        "for ii in contentMap:\n",
        "    stmtVar = extractStatements(nlp, contentMap[ii])\n",
        "    stmtVar = list(filter(lambda x: len(x) > 100, stmtVar))\n",
        "    lemmaVar = list(map(lambda x: lemmatize(nlp, x), stmtVar))\n",
        "    newDf = pd.DataFrame({\"name\": ii, \"stmt\": stmtVar, \"lemma\": lemmaVar})\n",
        "    esgDf = esgDf.append(newDf, ignore_index=True)"
      ],
      "metadata": {
        "colab": {
          "base_uri": "https://localhost:8080/"
        },
        "id": "QD91HoPOwQQd",
        "outputId": "9d760248-2838-4a1b-d79c-4c25901a10cd"
      },
      "execution_count": 11,
      "outputs": [
        {
          "output_type": "stream",
          "name": "stderr",
          "text": [
            "<ipython-input-11-35c554b20c10>:7: FutureWarning: The frame.append method is deprecated and will be removed from pandas in a future version. Use pandas.concat instead.\n",
            "  esgDf = esgDf.append(newDf, ignore_index=True)\n",
            "<ipython-input-11-35c554b20c10>:7: FutureWarning: The frame.append method is deprecated and will be removed from pandas in a future version. Use pandas.concat instead.\n",
            "  esgDf = esgDf.append(newDf, ignore_index=True)\n",
            "<ipython-input-11-35c554b20c10>:7: FutureWarning: The frame.append method is deprecated and will be removed from pandas in a future version. Use pandas.concat instead.\n",
            "  esgDf = esgDf.append(newDf, ignore_index=True)\n",
            "<ipython-input-11-35c554b20c10>:7: FutureWarning: The frame.append method is deprecated and will be removed from pandas in a future version. Use pandas.concat instead.\n",
            "  esgDf = esgDf.append(newDf, ignore_index=True)\n",
            "<ipython-input-11-35c554b20c10>:7: FutureWarning: The frame.append method is deprecated and will be removed from pandas in a future version. Use pandas.concat instead.\n",
            "  esgDf = esgDf.append(newDf, ignore_index=True)\n",
            "<ipython-input-11-35c554b20c10>:7: FutureWarning: The frame.append method is deprecated and will be removed from pandas in a future version. Use pandas.concat instead.\n",
            "  esgDf = esgDf.append(newDf, ignore_index=True)\n",
            "<ipython-input-11-35c554b20c10>:7: FutureWarning: The frame.append method is deprecated and will be removed from pandas in a future version. Use pandas.concat instead.\n",
            "  esgDf = esgDf.append(newDf, ignore_index=True)\n",
            "<ipython-input-11-35c554b20c10>:7: FutureWarning: The frame.append method is deprecated and will be removed from pandas in a future version. Use pandas.concat instead.\n",
            "  esgDf = esgDf.append(newDf, ignore_index=True)\n",
            "<ipython-input-11-35c554b20c10>:7: FutureWarning: The frame.append method is deprecated and will be removed from pandas in a future version. Use pandas.concat instead.\n",
            "  esgDf = esgDf.append(newDf, ignore_index=True)\n",
            "<ipython-input-11-35c554b20c10>:7: FutureWarning: The frame.append method is deprecated and will be removed from pandas in a future version. Use pandas.concat instead.\n",
            "  esgDf = esgDf.append(newDf, ignore_index=True)\n",
            "<ipython-input-11-35c554b20c10>:7: FutureWarning: The frame.append method is deprecated and will be removed from pandas in a future version. Use pandas.concat instead.\n",
            "  esgDf = esgDf.append(newDf, ignore_index=True)\n",
            "<ipython-input-11-35c554b20c10>:7: FutureWarning: The frame.append method is deprecated and will be removed from pandas in a future version. Use pandas.concat instead.\n",
            "  esgDf = esgDf.append(newDf, ignore_index=True)\n",
            "<ipython-input-11-35c554b20c10>:7: FutureWarning: The frame.append method is deprecated and will be removed from pandas in a future version. Use pandas.concat instead.\n",
            "  esgDf = esgDf.append(newDf, ignore_index=True)\n",
            "<ipython-input-11-35c554b20c10>:7: FutureWarning: The frame.append method is deprecated and will be removed from pandas in a future version. Use pandas.concat instead.\n",
            "  esgDf = esgDf.append(newDf, ignore_index=True)\n",
            "<ipython-input-11-35c554b20c10>:7: FutureWarning: The frame.append method is deprecated and will be removed from pandas in a future version. Use pandas.concat instead.\n",
            "  esgDf = esgDf.append(newDf, ignore_index=True)\n",
            "<ipython-input-11-35c554b20c10>:7: FutureWarning: The frame.append method is deprecated and will be removed from pandas in a future version. Use pandas.concat instead.\n",
            "  esgDf = esgDf.append(newDf, ignore_index=True)\n",
            "<ipython-input-11-35c554b20c10>:7: FutureWarning: The frame.append method is deprecated and will be removed from pandas in a future version. Use pandas.concat instead.\n",
            "  esgDf = esgDf.append(newDf, ignore_index=True)\n",
            "<ipython-input-11-35c554b20c10>:7: FutureWarning: The frame.append method is deprecated and will be removed from pandas in a future version. Use pandas.concat instead.\n",
            "  esgDf = esgDf.append(newDf, ignore_index=True)\n"
          ]
        }
      ]
    },
    {
      "cell_type": "code",
      "source": [
        "esgDf"
      ],
      "metadata": {
        "colab": {
          "base_uri": "https://localhost:8080/",
          "height": 424
        },
        "id": "1fEZlFjUwRdQ",
        "outputId": "14576f93-147d-4960-acea-00074cff3a93"
      },
      "execution_count": 12,
      "outputs": [
        {
          "output_type": "execute_result",
          "data": {
            "text/plain": [
              "                    name                                               stmt  \\\n",
              "0               barclays  Barclays PLC Environmental Social Governance R...   \n",
              "1               barclays  Barclays is a British universal bank Our Purpo...   \n",
              "2               barclays  For over 325 years we have funded progress, an...   \n",
              "3               barclays  FOR OUR CUSTOMERS AND CLIENTS We will help the...   \n",
              "4               barclays  FOR SOCIETY Our success over the long term is ...   \n",
              "...                  ...                                                ...   \n",
              "9091  standard chartered  Waste/FTE (kg/headcount/year) Waste reused or ...   \n",
              "9092  standard chartered  This refects the Groups headcount (formerly la...   \n",
              "9093  standard chartered  As a result, we have restated Scope 3 emission...   \n",
              "9094  standard chartered  Scaled-up waste data is not representative and...   \n",
              "9095  standard chartered  Annual Report For a full review of our perform...   \n",
              "\n",
              "                                                  lemma  \n",
              "0     barclays plc environmental social governance r...  \n",
              "1     barclays be british universal bank our purpose...  \n",
              "2     for over year we have fund progress and today ...  \n",
              "3     for our customer and client we will help they ...  \n",
              "4     for society our success over the long term be ...  \n",
              "...                                                 ...  \n",
              "9091  waste fte kg headcount year waste reuse or rec...  \n",
              "9092  this refect the groups headcount formerly labe...  \n",
              "9093  as result we have restate scope emission for a...  \n",
              "9094  scale up waste datum be not representative and...  \n",
              "9095  annual report for full review of our performan...  \n",
              "\n",
              "[9096 rows x 3 columns]"
            ],
            "text/html": [
              "\n",
              "  <div id=\"df-8b48f79d-7ffc-4930-9513-52a1e8153275\" class=\"colab-df-container\">\n",
              "    <div>\n",
              "<style scoped>\n",
              "    .dataframe tbody tr th:only-of-type {\n",
              "        vertical-align: middle;\n",
              "    }\n",
              "\n",
              "    .dataframe tbody tr th {\n",
              "        vertical-align: top;\n",
              "    }\n",
              "\n",
              "    .dataframe thead th {\n",
              "        text-align: right;\n",
              "    }\n",
              "</style>\n",
              "<table border=\"1\" class=\"dataframe\">\n",
              "  <thead>\n",
              "    <tr style=\"text-align: right;\">\n",
              "      <th></th>\n",
              "      <th>name</th>\n",
              "      <th>stmt</th>\n",
              "      <th>lemma</th>\n",
              "    </tr>\n",
              "  </thead>\n",
              "  <tbody>\n",
              "    <tr>\n",
              "      <th>0</th>\n",
              "      <td>barclays</td>\n",
              "      <td>Barclays PLC Environmental Social Governance R...</td>\n",
              "      <td>barclays plc environmental social governance r...</td>\n",
              "    </tr>\n",
              "    <tr>\n",
              "      <th>1</th>\n",
              "      <td>barclays</td>\n",
              "      <td>Barclays is a British universal bank Our Purpo...</td>\n",
              "      <td>barclays be british universal bank our purpose...</td>\n",
              "    </tr>\n",
              "    <tr>\n",
              "      <th>2</th>\n",
              "      <td>barclays</td>\n",
              "      <td>For over 325 years we have funded progress, an...</td>\n",
              "      <td>for over year we have fund progress and today ...</td>\n",
              "    </tr>\n",
              "    <tr>\n",
              "      <th>3</th>\n",
              "      <td>barclays</td>\n",
              "      <td>FOR OUR CUSTOMERS AND CLIENTS We will help the...</td>\n",
              "      <td>for our customer and client we will help they ...</td>\n",
              "    </tr>\n",
              "    <tr>\n",
              "      <th>4</th>\n",
              "      <td>barclays</td>\n",
              "      <td>FOR SOCIETY Our success over the long term is ...</td>\n",
              "      <td>for society our success over the long term be ...</td>\n",
              "    </tr>\n",
              "    <tr>\n",
              "      <th>...</th>\n",
              "      <td>...</td>\n",
              "      <td>...</td>\n",
              "      <td>...</td>\n",
              "    </tr>\n",
              "    <tr>\n",
              "      <th>9091</th>\n",
              "      <td>standard chartered</td>\n",
              "      <td>Waste/FTE (kg/headcount/year) Waste reused or ...</td>\n",
              "      <td>waste fte kg headcount year waste reuse or rec...</td>\n",
              "    </tr>\n",
              "    <tr>\n",
              "      <th>9092</th>\n",
              "      <td>standard chartered</td>\n",
              "      <td>This refects the Groups headcount (formerly la...</td>\n",
              "      <td>this refect the groups headcount formerly labe...</td>\n",
              "    </tr>\n",
              "    <tr>\n",
              "      <th>9093</th>\n",
              "      <td>standard chartered</td>\n",
              "      <td>As a result, we have restated Scope 3 emission...</td>\n",
              "      <td>as result we have restate scope emission for a...</td>\n",
              "    </tr>\n",
              "    <tr>\n",
              "      <th>9094</th>\n",
              "      <td>standard chartered</td>\n",
              "      <td>Scaled-up waste data is not representative and...</td>\n",
              "      <td>scale up waste datum be not representative and...</td>\n",
              "    </tr>\n",
              "    <tr>\n",
              "      <th>9095</th>\n",
              "      <td>standard chartered</td>\n",
              "      <td>Annual Report For a full review of our perform...</td>\n",
              "      <td>annual report for full review of our performan...</td>\n",
              "    </tr>\n",
              "  </tbody>\n",
              "</table>\n",
              "<p>9096 rows × 3 columns</p>\n",
              "</div>\n",
              "    <div class=\"colab-df-buttons\">\n",
              "\n",
              "  <div class=\"colab-df-container\">\n",
              "    <button class=\"colab-df-convert\" onclick=\"convertToInteractive('df-8b48f79d-7ffc-4930-9513-52a1e8153275')\"\n",
              "            title=\"Convert this dataframe to an interactive table.\"\n",
              "            style=\"display:none;\">\n",
              "\n",
              "  <svg xmlns=\"http://www.w3.org/2000/svg\" height=\"24px\" viewBox=\"0 -960 960 960\">\n",
              "    <path d=\"M120-120v-720h720v720H120Zm60-500h600v-160H180v160Zm220 220h160v-160H400v160Zm0 220h160v-160H400v160ZM180-400h160v-160H180v160Zm440 0h160v-160H620v160ZM180-180h160v-160H180v160Zm440 0h160v-160H620v160Z\"/>\n",
              "  </svg>\n",
              "    </button>\n",
              "\n",
              "  <style>\n",
              "    .colab-df-container {\n",
              "      display:flex;\n",
              "      gap: 12px;\n",
              "    }\n",
              "\n",
              "    .colab-df-convert {\n",
              "      background-color: #E8F0FE;\n",
              "      border: none;\n",
              "      border-radius: 50%;\n",
              "      cursor: pointer;\n",
              "      display: none;\n",
              "      fill: #1967D2;\n",
              "      height: 32px;\n",
              "      padding: 0 0 0 0;\n",
              "      width: 32px;\n",
              "    }\n",
              "\n",
              "    .colab-df-convert:hover {\n",
              "      background-color: #E2EBFA;\n",
              "      box-shadow: 0px 1px 2px rgba(60, 64, 67, 0.3), 0px 1px 3px 1px rgba(60, 64, 67, 0.15);\n",
              "      fill: #174EA6;\n",
              "    }\n",
              "\n",
              "    .colab-df-buttons div {\n",
              "      margin-bottom: 4px;\n",
              "    }\n",
              "\n",
              "    [theme=dark] .colab-df-convert {\n",
              "      background-color: #3B4455;\n",
              "      fill: #D2E3FC;\n",
              "    }\n",
              "\n",
              "    [theme=dark] .colab-df-convert:hover {\n",
              "      background-color: #434B5C;\n",
              "      box-shadow: 0px 1px 3px 1px rgba(0, 0, 0, 0.15);\n",
              "      filter: drop-shadow(0px 1px 2px rgba(0, 0, 0, 0.3));\n",
              "      fill: #FFFFFF;\n",
              "    }\n",
              "  </style>\n",
              "\n",
              "    <script>\n",
              "      const buttonEl =\n",
              "        document.querySelector('#df-8b48f79d-7ffc-4930-9513-52a1e8153275 button.colab-df-convert');\n",
              "      buttonEl.style.display =\n",
              "        google.colab.kernel.accessAllowed ? 'block' : 'none';\n",
              "\n",
              "      async function convertToInteractive(key) {\n",
              "        const element = document.querySelector('#df-8b48f79d-7ffc-4930-9513-52a1e8153275');\n",
              "        const dataTable =\n",
              "          await google.colab.kernel.invokeFunction('convertToInteractive',\n",
              "                                                    [key], {});\n",
              "        if (!dataTable) return;\n",
              "\n",
              "        const docLinkHtml = 'Like what you see? Visit the ' +\n",
              "          '<a target=\"_blank\" href=https://colab.research.google.com/notebooks/data_table.ipynb>data table notebook</a>'\n",
              "          + ' to learn more about interactive tables.';\n",
              "        element.innerHTML = '';\n",
              "        dataTable['output_type'] = 'display_data';\n",
              "        await google.colab.output.renderOutput(dataTable, element);\n",
              "        const docLink = document.createElement('div');\n",
              "        docLink.innerHTML = docLinkHtml;\n",
              "        element.appendChild(docLink);\n",
              "      }\n",
              "    </script>\n",
              "  </div>\n",
              "\n",
              "\n",
              "<div id=\"df-9927683c-78fc-46f9-a6cc-11e94ac52b12\">\n",
              "  <button class=\"colab-df-quickchart\" onclick=\"quickchart('df-9927683c-78fc-46f9-a6cc-11e94ac52b12')\"\n",
              "            title=\"Suggest charts.\"\n",
              "            style=\"display:none;\">\n",
              "\n",
              "<svg xmlns=\"http://www.w3.org/2000/svg\" height=\"24px\"viewBox=\"0 0 24 24\"\n",
              "     width=\"24px\">\n",
              "    <g>\n",
              "        <path d=\"M19 3H5c-1.1 0-2 .9-2 2v14c0 1.1.9 2 2 2h14c1.1 0 2-.9 2-2V5c0-1.1-.9-2-2-2zM9 17H7v-7h2v7zm4 0h-2V7h2v10zm4 0h-2v-4h2v4z\"/>\n",
              "    </g>\n",
              "</svg>\n",
              "  </button>\n",
              "\n",
              "<style>\n",
              "  .colab-df-quickchart {\n",
              "      --bg-color: #E8F0FE;\n",
              "      --fill-color: #1967D2;\n",
              "      --hover-bg-color: #E2EBFA;\n",
              "      --hover-fill-color: #174EA6;\n",
              "      --disabled-fill-color: #AAA;\n",
              "      --disabled-bg-color: #DDD;\n",
              "  }\n",
              "\n",
              "  [theme=dark] .colab-df-quickchart {\n",
              "      --bg-color: #3B4455;\n",
              "      --fill-color: #D2E3FC;\n",
              "      --hover-bg-color: #434B5C;\n",
              "      --hover-fill-color: #FFFFFF;\n",
              "      --disabled-bg-color: #3B4455;\n",
              "      --disabled-fill-color: #666;\n",
              "  }\n",
              "\n",
              "  .colab-df-quickchart {\n",
              "    background-color: var(--bg-color);\n",
              "    border: none;\n",
              "    border-radius: 50%;\n",
              "    cursor: pointer;\n",
              "    display: none;\n",
              "    fill: var(--fill-color);\n",
              "    height: 32px;\n",
              "    padding: 0;\n",
              "    width: 32px;\n",
              "  }\n",
              "\n",
              "  .colab-df-quickchart:hover {\n",
              "    background-color: var(--hover-bg-color);\n",
              "    box-shadow: 0 1px 2px rgba(60, 64, 67, 0.3), 0 1px 3px 1px rgba(60, 64, 67, 0.15);\n",
              "    fill: var(--button-hover-fill-color);\n",
              "  }\n",
              "\n",
              "  .colab-df-quickchart-complete:disabled,\n",
              "  .colab-df-quickchart-complete:disabled:hover {\n",
              "    background-color: var(--disabled-bg-color);\n",
              "    fill: var(--disabled-fill-color);\n",
              "    box-shadow: none;\n",
              "  }\n",
              "\n",
              "  .colab-df-spinner {\n",
              "    border: 2px solid var(--fill-color);\n",
              "    border-color: transparent;\n",
              "    border-bottom-color: var(--fill-color);\n",
              "    animation:\n",
              "      spin 1s steps(1) infinite;\n",
              "  }\n",
              "\n",
              "  @keyframes spin {\n",
              "    0% {\n",
              "      border-color: transparent;\n",
              "      border-bottom-color: var(--fill-color);\n",
              "      border-left-color: var(--fill-color);\n",
              "    }\n",
              "    20% {\n",
              "      border-color: transparent;\n",
              "      border-left-color: var(--fill-color);\n",
              "      border-top-color: var(--fill-color);\n",
              "    }\n",
              "    30% {\n",
              "      border-color: transparent;\n",
              "      border-left-color: var(--fill-color);\n",
              "      border-top-color: var(--fill-color);\n",
              "      border-right-color: var(--fill-color);\n",
              "    }\n",
              "    40% {\n",
              "      border-color: transparent;\n",
              "      border-right-color: var(--fill-color);\n",
              "      border-top-color: var(--fill-color);\n",
              "    }\n",
              "    60% {\n",
              "      border-color: transparent;\n",
              "      border-right-color: var(--fill-color);\n",
              "    }\n",
              "    80% {\n",
              "      border-color: transparent;\n",
              "      border-right-color: var(--fill-color);\n",
              "      border-bottom-color: var(--fill-color);\n",
              "    }\n",
              "    90% {\n",
              "      border-color: transparent;\n",
              "      border-bottom-color: var(--fill-color);\n",
              "    }\n",
              "  }\n",
              "</style>\n",
              "\n",
              "  <script>\n",
              "    async function quickchart(key) {\n",
              "      const quickchartButtonEl =\n",
              "        document.querySelector('#' + key + ' button');\n",
              "      quickchartButtonEl.disabled = true;  // To prevent multiple clicks.\n",
              "      quickchartButtonEl.classList.add('colab-df-spinner');\n",
              "      try {\n",
              "        const charts = await google.colab.kernel.invokeFunction(\n",
              "            'suggestCharts', [key], {});\n",
              "      } catch (error) {\n",
              "        console.error('Error during call to suggestCharts:', error);\n",
              "      }\n",
              "      quickchartButtonEl.classList.remove('colab-df-spinner');\n",
              "      quickchartButtonEl.classList.add('colab-df-quickchart-complete');\n",
              "    }\n",
              "    (() => {\n",
              "      let quickchartButtonEl =\n",
              "        document.querySelector('#df-9927683c-78fc-46f9-a6cc-11e94ac52b12 button');\n",
              "      quickchartButtonEl.style.display =\n",
              "        google.colab.kernel.accessAllowed ? 'block' : 'none';\n",
              "    })();\n",
              "  </script>\n",
              "</div>\n",
              "    </div>\n",
              "  </div>\n"
            ]
          },
          "metadata": {},
          "execution_count": 12
        }
      ]
    },
    {
      "cell_type": "code",
      "source": [
        "\n",
        "fsiStopWords = [\"plc\", \"group\", \"target\", \"track\", \"capital\", \"holding\",\n",
        "    \"report\", \"annualreport\", \"esg\", \"bank\", \"report\", \"long\", \"make\"]\n",
        "\n",
        "for nm in esgDf.name.unique():\n",
        "    for ii in nm.split(\" \"):\n",
        "        fsiStopWords.append(ii)\n",
        "\n",
        "stopWords = text.ENGLISH_STOP_WORDS.union(fsiStopWords)"
      ],
      "metadata": {
        "id": "nibOKqcQxEiR"
      },
      "execution_count": 13,
      "outputs": []
    },
    {
      "cell_type": "code",
      "source": [
        "from sklearn.feature_extraction.text import CountVectorizer, TfidfVectorizer\n",
        "\n",
        "# Compute the term frequencies for bigrams across entire corpus\n",
        "tf_vectorizer = CountVectorizer(ngram_range=(2, 2), stop_words=list(stopWords))\n",
        "tf_matrix = tf_vectorizer.fit_transform(esgDf.lemma)\n",
        "tf_sum = np.sum(tf_matrix, axis=0)\n",
        "tf_bigrams = [(word, tf_sum[0, idx]) for word, idx in tf_vectorizer.vocabulary_.items()]\n",
        "tf_bigrams = sorted(tf_bigrams, key=lambda x: x[1], reverse=True)\n",
        "top_tf_bigrams = tf_bigrams[:3]\n",
        "\n",
        "large_banks =[\n",
        "    \"barclays\",\n",
        "    \"jp morgan chase\",\n",
        "    \"morgan stanley\",\n",
        "    \"goldman sachs\",\n",
        "    \"hsbc\",\n",
        "    \"citi\",\n",
        "    \"rbc\",\n",
        "    \"macquarie\",\n",
        "    \"santander\",\n",
        "    \"standard chartered\"\n",
        "]\n",
        "\n",
        "filtered_df = esgDf[esgDf.name.isin(large_banks)]\n",
        "\n",
        "# Compute TF-IDF for bigrams in the filtered dataset\n",
        "tfidf_vectorizer = TfidfVectorizer(ngram_range=(2, 2), stop_words=list(stopWords))\n",
        "tfidf_matrix = tfidf_vectorizer.fit_transform(filtered_df.lemma)\n",
        "tfidf_sum = np.sum(tfidf_matrix, axis=0)\n",
        "tfidf_bigrams = [(word, tfidf_sum[0, idx]) for word, idx in tfidf_vectorizer.vocabulary_.items()]\n",
        "tfidf_bigrams = sorted(tfidf_bigrams, key=lambda x: x[1], reverse=True)\n",
        "top_tfidf_bigrams = tfidf_bigrams[:3]"
      ],
      "metadata": {
        "id": "8lLXL8FExEtq"
      },
      "execution_count": 14,
      "outputs": []
    },
    {
      "cell_type": "code",
      "source": [
        "print(\"What are the three most common bigrams by TF alone?\")\n",
        "top_tf_bigrams"
      ],
      "metadata": {
        "colab": {
          "base_uri": "https://localhost:8080/"
        },
        "id": "bRMmo53VxE1f",
        "outputId": "a59174bf-8a74-429f-e03a-d7b50892d436"
      },
      "execution_count": 15,
      "outputs": [
        {
          "output_type": "stream",
          "name": "stdout",
          "text": [
            "What are the three most common bigrams by TF alone?\n"
          ]
        },
        {
          "output_type": "execute_result",
          "data": {
            "text/plain": [
              "[('environmental social', 521),\n",
              " ('climate change', 445),\n",
              " ('social governance', 275)]"
            ]
          },
          "metadata": {},
          "execution_count": 15
        }
      ]
    },
    {
      "cell_type": "code",
      "source": [
        "print(\"What are the three most common bigrams (by TF-IDF) among the reports by (only) large banks?\")\n",
        "top_tfidf_bigrams"
      ],
      "metadata": {
        "colab": {
          "base_uri": "https://localhost:8080/"
        },
        "id": "JBtuwSjCxE4n",
        "outputId": "c297022e-882a-44e3-c82d-52303203d303"
      },
      "execution_count": 16,
      "outputs": [
        {
          "output_type": "stream",
          "name": "stdout",
          "text": [
            "What are the three most common bigrams (by TF-IDF) among the reports by (only) large banks?\n"
          ]
        },
        {
          "output_type": "execute_result",
          "data": {
            "text/plain": [
              "[('environmental social', 50.57102215303408),\n",
              " ('climate change', 39.89971734801227),\n",
              " ('risk management', 31.888391778512283)]"
            ]
          },
          "metadata": {},
          "execution_count": 16
        }
      ]
    },
    {
      "cell_type": "code",
      "source": [],
      "metadata": {
        "id": "BMbAMaG9xE7N"
      },
      "execution_count": null,
      "outputs": []
    }
  ]
}