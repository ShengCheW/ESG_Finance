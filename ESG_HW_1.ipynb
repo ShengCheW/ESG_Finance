{
  "nbformat": 4,
  "nbformat_minor": 0,
  "metadata": {
    "colab": {
      "provenance": []
    },
    "kernelspec": {
      "name": "python3",
      "display_name": "Python 3"
    },
    "language_info": {
      "name": "python"
    }
  },
  "cells": [
    {
      "cell_type": "code",
      "execution_count": 5,
      "metadata": {
        "id": "luEqmQsmotdv",
        "colab": {
          "base_uri": "https://localhost:8080/"
        },
        "outputId": "da946b1b-5588-4eb5-ccd4-5d6ae1ce89c5"
      },
      "outputs": [
        {
          "output_type": "stream",
          "name": "stdout",
          "text": [
            "Requirement already satisfied: yahooquery in /usr/local/lib/python3.10/dist-packages (2.3.2)\n",
            "Requirement already satisfied: lxml>=4.9.1 in /usr/local/lib/python3.10/dist-packages (from yahooquery) (4.9.3)\n",
            "Requirement already satisfied: pandas>=0.24.0 in /usr/local/lib/python3.10/dist-packages (from yahooquery) (1.5.3)\n",
            "Requirement already satisfied: requests-futures>=1.0.0 in /usr/local/lib/python3.10/dist-packages (from yahooquery) (1.0.1)\n",
            "Requirement already satisfied: tqdm>=4.54.1 in /usr/local/lib/python3.10/dist-packages (from yahooquery) (4.66.1)\n",
            "Requirement already satisfied: python-dateutil>=2.8.1 in /usr/local/lib/python3.10/dist-packages (from pandas>=0.24.0->yahooquery) (2.8.2)\n",
            "Requirement already satisfied: pytz>=2020.1 in /usr/local/lib/python3.10/dist-packages (from pandas>=0.24.0->yahooquery) (2023.3.post1)\n",
            "Requirement already satisfied: numpy>=1.21.0 in /usr/local/lib/python3.10/dist-packages (from pandas>=0.24.0->yahooquery) (1.23.5)\n",
            "Requirement already satisfied: requests>=1.2.0 in /usr/local/lib/python3.10/dist-packages (from requests-futures>=1.0.0->yahooquery) (2.31.0)\n",
            "Requirement already satisfied: six>=1.5 in /usr/local/lib/python3.10/dist-packages (from python-dateutil>=2.8.1->pandas>=0.24.0->yahooquery) (1.16.0)\n",
            "Requirement already satisfied: charset-normalizer<4,>=2 in /usr/local/lib/python3.10/dist-packages (from requests>=1.2.0->requests-futures>=1.0.0->yahooquery) (3.2.0)\n",
            "Requirement already satisfied: idna<4,>=2.5 in /usr/local/lib/python3.10/dist-packages (from requests>=1.2.0->requests-futures>=1.0.0->yahooquery) (3.4)\n",
            "Requirement already satisfied: urllib3<3,>=1.21.1 in /usr/local/lib/python3.10/dist-packages (from requests>=1.2.0->requests-futures>=1.0.0->yahooquery) (2.0.4)\n",
            "Requirement already satisfied: certifi>=2017.4.17 in /usr/local/lib/python3.10/dist-packages (from requests>=1.2.0->requests-futures>=1.0.0->yahooquery) (2023.7.22)\n"
          ]
        }
      ],
      "source": [
        "pip install yahooquery"
      ]
    },
    {
      "cell_type": "code",
      "source": [
        "from yahooquery import Ticker"
      ],
      "metadata": {
        "id": "cR_XeUWN6xYt"
      },
      "execution_count": 6,
      "outputs": []
    },
    {
      "cell_type": "code",
      "source": [
        "#getting compnay list from WIKI\n",
        "from bs4 import BeautifulSoup\n",
        "import requests\n",
        "import pandas as pd\n",
        "\n",
        "# Step 1: Scrape the S&P 500 tickers from the Wikipedia page\n",
        "url = \"https://en.wikipedia.org/wiki/List_of_S%26P_500_companies\"\n",
        "response = requests.get(url)\n",
        "soup = BeautifulSoup(response.text, 'html.parser')\n",
        "\n",
        "# Find the table with the tickers\n",
        "table = soup.find('table', {'class': 'wikitable sortable'})\n",
        "\n",
        "# Get the tickers\n",
        "tickers = []\n",
        "for row in table.findAll('tr')[1:]:\n",
        "    ticker = row.findAll('td')[0].text.strip()\n",
        "    tickers.append(ticker)"
      ],
      "metadata": {
        "id": "eIk0as2K6pqJ"
      },
      "execution_count": 7,
      "outputs": []
    },
    {
      "cell_type": "code",
      "source": [
        "no_esg = 0\n",
        "esg_dict = {}\n",
        "for i in list(tickers):\n",
        "    try:\n",
        "        esg_data = Ticker(i).esg_scores.get(i)['environmentScore']\n",
        "        #print(i, esg_data)\n",
        "        esg_dict[i] = esg_data\n",
        "\n",
        "    except:\n",
        "        no_esg += 1\n",
        ""
      ],
      "metadata": {
        "id": "V1jFyXSz9cKt"
      },
      "execution_count": 45,
      "outputs": []
    },
    {
      "cell_type": "code",
      "source": [
        "max_esg = max(esg_dict.items() , key= lambda x:x[1])\n",
        "print(\"Company:\",max_esg[0], \"has the worst Environmental score of \", max_esg[1] )"
      ],
      "metadata": {
        "colab": {
          "base_uri": "https://localhost:8080/"
        },
        "id": "-y54IgV89cO4",
        "outputId": "2621afa7-778f-4016-b7b6-8d4aa03e30e8"
      },
      "execution_count": 51,
      "outputs": [
        {
          "output_type": "stream",
          "name": "stdout",
          "text": [
            "Company: OXY has the worst Environmental score of  24.61\n"
          ]
        }
      ]
    },
    {
      "cell_type": "code",
      "source": [
        "min_esg = min(esg_dict.items() , key= lambda x:x[1])\n",
        "print(\"Company:\",min_esg[0], \"has the best Environmental score of \", min_esg[1] )"
      ],
      "metadata": {
        "colab": {
          "base_uri": "https://localhost:8080/"
        },
        "id": "avinoTAo_LuP",
        "outputId": "b67b8acc-6083-4be6-9a86-217fd095e407"
      },
      "execution_count": 52,
      "outputs": [
        {
          "output_type": "stream",
          "name": "stdout",
          "text": [
            "Company: SPGI has the best Environmental score of  0.0\n"
          ]
        }
      ]
    }
  ]
}