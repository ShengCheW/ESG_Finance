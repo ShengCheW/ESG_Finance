{
 "cells": [
  {
   "cell_type": "code",
   "execution_count": 1,
   "metadata": {},
   "outputs": [],
   "source": [
    "user_agent_headers = {\"User-Agent\": \"Mozilla/5.0 (Macintosh; Intel Mac OS X 10_10_1) AppleWebKit/537.36 (KHTML, like Gecko) Chrome/39.0.2171.95 Safari/537.36\"}"
   ]
  },
  {
   "cell_type": "code",
   "execution_count": 21,
   "metadata": {},
   "outputs": [],
   "source": [
    "import pandas as pd\n",
    "import yfinance as yf"
   ]
  },
  {
   "cell_type": "code",
   "execution_count": 2,
   "metadata": {},
   "outputs": [],
   "source": [
    "import requests\n",
    "import bs4"
   ]
  },
  {
   "cell_type": "code",
   "execution_count": 13,
   "metadata": {},
   "outputs": [],
   "source": [
    "def getMySustainability(ticker):\n",
    "    webData = requests.get(\"https://finance.yahoo.com/quote/\" + ticker + \"/sustainability\", headers=user_agent_headers).text\n",
    "    soup = bs4.BeautifulSoup(webData, \"html.parser\")\n",
    "    \n",
    "    esgScore = soup.find(\"div\", {\"class\" : \"Fz(36px) Fw(600) D(ib) Mend(5px)\"}).text\n",
    "    elements = [ii.text for ii in soup.find_all(\"div\", {\"class\" : \"D(ib) Fz(23px) smartphone_Fz(22px) Fw(600)\"})]\n",
    "    controversyScore = soup.find(\"div\", {\"class\" : \"D(ib) Fz(36px) Fw(500)\"}).text\n",
    "    \n",
    "    return pd.DataFrame({\"totalEsg\" : esgScore,\n",
    "             \"E Score\" : elements[0],\n",
    "             \"S Score\" : elements[1],\n",
    "             \"G Score\" : elements[2],\n",
    "             \"Controversy Score\" : controversyScore}, index=[ticker])"
   ]
  },
  {
   "cell_type": "markdown",
   "metadata": {},
   "source": [
    "### Performance by ESG Rating ###"
   ]
  },
  {
   "cell_type": "code",
   "execution_count": 6,
   "metadata": {},
   "outputs": [
    {
     "data": {
      "text/plain": [
       "503"
      ]
     },
     "execution_count": 6,
     "metadata": {},
     "output_type": "execute_result"
    }
   ],
   "source": [
    "wikiPg = requests.get(\"https://en.wikipedia.org/wiki/List_of_S%26P_500_companies\").text\n",
    "tickerList = pd.read_html(wikiPg)[0][\"Symbol\"].tolist()\n",
    "len(tickerList)"
   ]
  },
  {
   "cell_type": "code",
   "execution_count": 16,
   "metadata": {},
   "outputs": [
    {
     "name": "stdout",
     "output_type": "stream",
     "text": [
      "MMM\n",
      "AOS\n",
      "ABT\n",
      "ABBV\n",
      "ACN\n",
      "ATVI\n",
      "ADM\n",
      "ADBE\n",
      "ADP\n",
      "AES\n",
      "AFL\n",
      "A\n"
     ]
    }
   ],
   "source": [
    "esgData = pd.DataFrame()\n",
    "for ii in tickerList[:12]: ### truncated list!\n",
    "    print(ii)\n",
    "    try:\n",
    "        objY = getMySustainability(ii)\n",
    "        esgData = esgData.append(objY)\n",
    "    except Exception as e:\n",
    "        print(e)"
   ]
  },
  {
   "cell_type": "code",
   "execution_count": 18,
   "metadata": {},
   "outputs": [
    {
     "data": {
      "text/html": [
       "<div>\n",
       "<style scoped>\n",
       "    .dataframe tbody tr th:only-of-type {\n",
       "        vertical-align: middle;\n",
       "    }\n",
       "\n",
       "    .dataframe tbody tr th {\n",
       "        vertical-align: top;\n",
       "    }\n",
       "\n",
       "    .dataframe thead th {\n",
       "        text-align: right;\n",
       "    }\n",
       "</style>\n",
       "<table border=\"1\" class=\"dataframe\">\n",
       "  <thead>\n",
       "    <tr style=\"text-align: right;\">\n",
       "      <th></th>\n",
       "      <th>totalEsg</th>\n",
       "      <th>E Score</th>\n",
       "      <th>S Score</th>\n",
       "      <th>G Score</th>\n",
       "      <th>Controversy Score</th>\n",
       "    </tr>\n",
       "  </thead>\n",
       "  <tbody>\n",
       "    <tr>\n",
       "      <th>ACN</th>\n",
       "      <td>10</td>\n",
       "      <td>0.3</td>\n",
       "      <td>4.6</td>\n",
       "      <td>4.8</td>\n",
       "      <td>2</td>\n",
       "    </tr>\n",
       "    <tr>\n",
       "      <th>ADBE</th>\n",
       "      <td>12</td>\n",
       "      <td>1.9</td>\n",
       "      <td>5.9</td>\n",
       "      <td>4.6</td>\n",
       "      <td>1</td>\n",
       "    </tr>\n",
       "    <tr>\n",
       "      <th>ADP</th>\n",
       "      <td>14</td>\n",
       "      <td>1.1</td>\n",
       "      <td>7.0</td>\n",
       "      <td>5.9</td>\n",
       "      <td>1</td>\n",
       "    </tr>\n",
       "    <tr>\n",
       "      <th>A</th>\n",
       "      <td>15</td>\n",
       "      <td>0.3</td>\n",
       "      <td>8.6</td>\n",
       "      <td>6.3</td>\n",
       "      <td>1</td>\n",
       "    </tr>\n",
       "    <tr>\n",
       "      <th>AFL</th>\n",
       "      <td>17</td>\n",
       "      <td>0.5</td>\n",
       "      <td>7.3</td>\n",
       "      <td>9.6</td>\n",
       "      <td>2</td>\n",
       "    </tr>\n",
       "    <tr>\n",
       "      <th>ATVI</th>\n",
       "      <td>19</td>\n",
       "      <td>0.2</td>\n",
       "      <td>12.5</td>\n",
       "      <td>6.3</td>\n",
       "      <td>4</td>\n",
       "    </tr>\n",
       "    <tr>\n",
       "      <th>AOS</th>\n",
       "      <td>25</td>\n",
       "      <td>7.3</td>\n",
       "      <td>11.9</td>\n",
       "      <td>6.3</td>\n",
       "      <td>0</td>\n",
       "    </tr>\n",
       "    <tr>\n",
       "      <th>ABT</th>\n",
       "      <td>25</td>\n",
       "      <td>3.0</td>\n",
       "      <td>13.6</td>\n",
       "      <td>8.4</td>\n",
       "      <td>3</td>\n",
       "    </tr>\n",
       "    <tr>\n",
       "      <th>ABBV</th>\n",
       "      <td>28</td>\n",
       "      <td>1.1</td>\n",
       "      <td>16.8</td>\n",
       "      <td>9.9</td>\n",
       "      <td>3</td>\n",
       "    </tr>\n",
       "    <tr>\n",
       "      <th>MMM</th>\n",
       "      <td>34</td>\n",
       "      <td>12.3</td>\n",
       "      <td>13.6</td>\n",
       "      <td>7.7</td>\n",
       "      <td>3</td>\n",
       "    </tr>\n",
       "    <tr>\n",
       "      <th>AES</th>\n",
       "      <td>34</td>\n",
       "      <td>16.5</td>\n",
       "      <td>11.2</td>\n",
       "      <td>6.5</td>\n",
       "      <td>2</td>\n",
       "    </tr>\n",
       "    <tr>\n",
       "      <th>ADM</th>\n",
       "      <td>36</td>\n",
       "      <td>18.2</td>\n",
       "      <td>13.2</td>\n",
       "      <td>5.0</td>\n",
       "      <td>3</td>\n",
       "    </tr>\n",
       "  </tbody>\n",
       "</table>\n",
       "</div>"
      ],
      "text/plain": [
       "     totalEsg E Score S Score G Score Controversy Score\n",
       "ACN        10     0.3     4.6     4.8                 2\n",
       "ADBE       12     1.9     5.9     4.6                 1\n",
       "ADP        14     1.1     7.0     5.9                 1\n",
       "A          15     0.3     8.6     6.3                 1\n",
       "AFL        17     0.5     7.3     9.6                 2\n",
       "ATVI       19     0.2    12.5     6.3                 4\n",
       "AOS        25     7.3    11.9     6.3                 0\n",
       "ABT        25     3.0    13.6     8.4                 3\n",
       "ABBV       28     1.1    16.8     9.9                 3\n",
       "MMM        34    12.3    13.6     7.7                 3\n",
       "AES        34    16.5    11.2     6.5                 2\n",
       "ADM        36    18.2    13.2     5.0                 3"
      ]
     },
     "execution_count": 18,
     "metadata": {},
     "output_type": "execute_result"
    }
   ],
   "source": [
    "esgData.sort_values(\"totalEsg\", inplace=True)\n",
    "esgData"
   ]
  },
  {
   "cell_type": "code",
   "execution_count": 19,
   "metadata": {},
   "outputs": [
    {
     "data": {
      "text/plain": [
       "(12, 5)"
      ]
     },
     "execution_count": 19,
     "metadata": {},
     "output_type": "execute_result"
    }
   ],
   "source": [
    "allTix = esgData.index.to_list()\n",
    "esgData.shape"
   ]
  },
  {
   "cell_type": "code",
   "execution_count": 22,
   "metadata": {},
   "outputs": [
    {
     "name": "stdout",
     "output_type": "stream",
     "text": [
      "[*********************100%***********************]  12 of 12 completed\n"
     ]
    }
   ],
   "source": [
    "dfPx = yf.download(\" \".join(allTix), start=\"2015-01-01\")[\"Adj Close\"]"
   ]
  },
  {
   "cell_type": "code",
   "execution_count": 23,
   "metadata": {},
   "outputs": [],
   "source": [
    "dfPx.fillna(method=\"ffill\", inplace=True)\n",
    "dfPx.fillna(method=\"bfill\", inplace=True)"
   ]
  },
  {
   "cell_type": "code",
   "execution_count": 24,
   "metadata": {},
   "outputs": [],
   "source": [
    "lstSer = []\n",
    "for ii in range(5):\n",
    "    tixList = allTix[2 * ii:2 * (ii + 1)] #allTix[90 * ii:90 * (ii + 1)]\n",
    "    seriesX = dfPx[tixList].sum(axis=1)\n",
    "    seriesX /= seriesX[0]\n",
    "    lstSer.append(seriesX)"
   ]
  },
  {
   "cell_type": "code",
   "execution_count": 25,
   "metadata": {},
   "outputs": [
    {
     "data": {
      "text/html": [
       "<div>\n",
       "<style scoped>\n",
       "    .dataframe tbody tr th:only-of-type {\n",
       "        vertical-align: middle;\n",
       "    }\n",
       "\n",
       "    .dataframe tbody tr th {\n",
       "        vertical-align: top;\n",
       "    }\n",
       "\n",
       "    .dataframe thead th {\n",
       "        text-align: right;\n",
       "    }\n",
       "</style>\n",
       "<table border=\"1\" class=\"dataframe\">\n",
       "  <thead>\n",
       "    <tr style=\"text-align: right;\">\n",
       "      <th></th>\n",
       "      <th>Quintile 5</th>\n",
       "      <th>Quintile 4</th>\n",
       "      <th>Quintile 3</th>\n",
       "      <th>Quintile 2</th>\n",
       "      <th>Quintile 1</th>\n",
       "    </tr>\n",
       "    <tr>\n",
       "      <th>Date</th>\n",
       "      <th></th>\n",
       "      <th></th>\n",
       "      <th></th>\n",
       "      <th></th>\n",
       "      <th></th>\n",
       "    </tr>\n",
       "  </thead>\n",
       "  <tbody>\n",
       "    <tr>\n",
       "      <th>2015-01-02</th>\n",
       "      <td>1.000000</td>\n",
       "      <td>1.000000</td>\n",
       "      <td>1.000000</td>\n",
       "      <td>1.000000</td>\n",
       "      <td>1.000000</td>\n",
       "    </tr>\n",
       "    <tr>\n",
       "      <th>2015-01-05</th>\n",
       "      <td>0.988890</td>\n",
       "      <td>0.992923</td>\n",
       "      <td>0.979121</td>\n",
       "      <td>0.993290</td>\n",
       "      <td>0.978457</td>\n",
       "    </tr>\n",
       "    <tr>\n",
       "      <th>2015-01-06</th>\n",
       "      <td>0.975517</td>\n",
       "      <td>0.982168</td>\n",
       "      <td>0.966245</td>\n",
       "      <td>0.983232</td>\n",
       "      <td>0.969539</td>\n",
       "    </tr>\n",
       "    <tr>\n",
       "      <th>2015-01-07</th>\n",
       "      <td>0.989958</td>\n",
       "      <td>0.992286</td>\n",
       "      <td>0.960653</td>\n",
       "      <td>0.990907</td>\n",
       "      <td>0.985322</td>\n",
       "    </tr>\n",
       "    <tr>\n",
       "      <th>2015-01-08</th>\n",
       "      <td>1.009918</td>\n",
       "      <td>1.017479</td>\n",
       "      <td>0.970124</td>\n",
       "      <td>1.013370</td>\n",
       "      <td>1.005227</td>\n",
       "    </tr>\n",
       "    <tr>\n",
       "      <th>...</th>\n",
       "      <td>...</td>\n",
       "      <td>...</td>\n",
       "      <td>...</td>\n",
       "      <td>...</td>\n",
       "      <td>...</td>\n",
       "    </tr>\n",
       "    <tr>\n",
       "      <th>2023-08-28</th>\n",
       "      <td>5.703347</td>\n",
       "      <td>3.498264</td>\n",
       "      <td>3.818157</td>\n",
       "      <td>2.775235</td>\n",
       "      <td>1.491197</td>\n",
       "    </tr>\n",
       "    <tr>\n",
       "      <th>2023-08-29</th>\n",
       "      <td>5.791764</td>\n",
       "      <td>3.517517</td>\n",
       "      <td>3.824813</td>\n",
       "      <td>2.810906</td>\n",
       "      <td>1.500741</td>\n",
       "    </tr>\n",
       "    <tr>\n",
       "      <th>2023-08-30</th>\n",
       "      <td>5.822532</td>\n",
       "      <td>3.529105</td>\n",
       "      <td>3.825272</td>\n",
       "      <td>2.826581</td>\n",
       "      <td>1.498429</td>\n",
       "    </tr>\n",
       "    <tr>\n",
       "      <th>2023-08-31</th>\n",
       "      <td>5.919729</td>\n",
       "      <td>3.511068</td>\n",
       "      <td>3.822977</td>\n",
       "      <td>2.805627</td>\n",
       "      <td>1.503527</td>\n",
       "    </tr>\n",
       "    <tr>\n",
       "      <th>2023-09-01</th>\n",
       "      <td>5.972283</td>\n",
       "      <td>3.529573</td>\n",
       "      <td>3.828715</td>\n",
       "      <td>2.821943</td>\n",
       "      <td>1.512538</td>\n",
       "    </tr>\n",
       "  </tbody>\n",
       "</table>\n",
       "<p>2182 rows × 5 columns</p>\n",
       "</div>"
      ],
      "text/plain": [
       "            Quintile 5  Quintile 4  Quintile 3  Quintile 2  Quintile 1\n",
       "Date                                                                  \n",
       "2015-01-02    1.000000    1.000000    1.000000    1.000000    1.000000\n",
       "2015-01-05    0.988890    0.992923    0.979121    0.993290    0.978457\n",
       "2015-01-06    0.975517    0.982168    0.966245    0.983232    0.969539\n",
       "2015-01-07    0.989958    0.992286    0.960653    0.990907    0.985322\n",
       "2015-01-08    1.009918    1.017479    0.970124    1.013370    1.005227\n",
       "...                ...         ...         ...         ...         ...\n",
       "2023-08-28    5.703347    3.498264    3.818157    2.775235    1.491197\n",
       "2023-08-29    5.791764    3.517517    3.824813    2.810906    1.500741\n",
       "2023-08-30    5.822532    3.529105    3.825272    2.826581    1.498429\n",
       "2023-08-31    5.919729    3.511068    3.822977    2.805627    1.503527\n",
       "2023-09-01    5.972283    3.529573    3.828715    2.821943    1.512538\n",
       "\n",
       "[2182 rows x 5 columns]"
      ]
     },
     "execution_count": 25,
     "metadata": {},
     "output_type": "execute_result"
    }
   ],
   "source": [
    "dfRes = pd.DataFrame(lstSer).T\n",
    "dfRes.columns = [\"Quintile {:d}\".format(5 - ii) for ii in range(5)]\n",
    "dfRes"
   ]
  },
  {
   "cell_type": "code",
   "execution_count": 26,
   "metadata": {},
   "outputs": [
    {
     "data": {
      "text/plain": [
       "<AxesSubplot:xlabel='Date'>"
      ]
     },
     "execution_count": 26,
     "metadata": {},
     "output_type": "execute_result"
    },
    {
     "data": {
      "image/png": "[encoded data removed]",
      "text/plain": [
       "<Figure size 432x288 with 1 Axes>"
      ]
     },
     "metadata": {
      "needs_background": "light"
     },
     "output_type": "display_data"
    }
   ],
   "source": [
    "dfRes.plot()"
   ]
  }
 ],
 "metadata": {
  "kernelspec": {
   "display_name": "Python 3",
   "language": "python",
   "name": "python3"
  },
  "language_info": {
   "codemirror_mode": {
    "name": "ipython",
    "version": 3
   },
   "file_extension": ".py",
   "mimetype": "text/x-python",
   "name": "python",
   "nbconvert_exporter": "python",
   "pygments_lexer": "ipython3",
   "version": "3.8.5"
  }
 },
 "nbformat": 4,
 "nbformat_minor": 4
}
